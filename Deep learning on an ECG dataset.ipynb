{
 "cells": [
  {
   "cell_type": "code",
   "execution_count": 1,
   "id": "6733d090-f519-497a-a6e5-f2f7a6a82306",
   "metadata": {},
   "outputs": [],
   "source": [
    "import pandas as pd\n",
    "import numpy as np\n",
    "import matplotlib.pyplot as plt\n",
    "from keras.models import Sequential\n",
    "from keras.layers import Dense\n",
    "from sklearn.model_selection import train_test_split\n",
    "from sklearn.metrics import classification_report, confusion_matrix, accuracy_score\n",
    "import warnings\n",
    "warnings.filterwarnings('ignore')"
   ]
  },
  {
   "cell_type": "code",
   "execution_count": 2,
   "id": "c69aee20-ecf5-4ae2-9983-5e35f3433e59",
   "metadata": {},
   "outputs": [
    {
     "data": {
      "text/html": [
       "<div>\n",
       "<style scoped>\n",
       "    .dataframe tbody tr th:only-of-type {\n",
       "        vertical-align: middle;\n",
       "    }\n",
       "\n",
       "    .dataframe tbody tr th {\n",
       "        vertical-align: top;\n",
       "    }\n",
       "\n",
       "    .dataframe thead th {\n",
       "        text-align: right;\n",
       "    }\n",
       "</style>\n",
       "<table border=\"1\" class=\"dataframe\">\n",
       "  <thead>\n",
       "    <tr style=\"text-align: right;\">\n",
       "      <th></th>\n",
       "      <th>0</th>\n",
       "      <th>1</th>\n",
       "      <th>2</th>\n",
       "      <th>3</th>\n",
       "      <th>4</th>\n",
       "      <th>5</th>\n",
       "      <th>6</th>\n",
       "      <th>7</th>\n",
       "      <th>8</th>\n",
       "      <th>9</th>\n",
       "      <th>...</th>\n",
       "      <th>178</th>\n",
       "      <th>179</th>\n",
       "      <th>180</th>\n",
       "      <th>181</th>\n",
       "      <th>182</th>\n",
       "      <th>183</th>\n",
       "      <th>184</th>\n",
       "      <th>185</th>\n",
       "      <th>186</th>\n",
       "      <th>187</th>\n",
       "    </tr>\n",
       "  </thead>\n",
       "  <tbody>\n",
       "    <tr>\n",
       "      <th>0</th>\n",
       "      <td>0.977941</td>\n",
       "      <td>0.926471</td>\n",
       "      <td>0.681373</td>\n",
       "      <td>0.245098</td>\n",
       "      <td>0.154412</td>\n",
       "      <td>0.191176</td>\n",
       "      <td>0.151961</td>\n",
       "      <td>0.085784</td>\n",
       "      <td>0.058824</td>\n",
       "      <td>0.049020</td>\n",
       "      <td>...</td>\n",
       "      <td>0.0</td>\n",
       "      <td>0.0</td>\n",
       "      <td>0.0</td>\n",
       "      <td>0.0</td>\n",
       "      <td>0.0</td>\n",
       "      <td>0.0</td>\n",
       "      <td>0.0</td>\n",
       "      <td>0.0</td>\n",
       "      <td>0.0</td>\n",
       "      <td>0.0</td>\n",
       "    </tr>\n",
       "    <tr>\n",
       "      <th>1</th>\n",
       "      <td>0.960114</td>\n",
       "      <td>0.863248</td>\n",
       "      <td>0.461538</td>\n",
       "      <td>0.196581</td>\n",
       "      <td>0.094017</td>\n",
       "      <td>0.125356</td>\n",
       "      <td>0.099715</td>\n",
       "      <td>0.088319</td>\n",
       "      <td>0.074074</td>\n",
       "      <td>0.082621</td>\n",
       "      <td>...</td>\n",
       "      <td>0.0</td>\n",
       "      <td>0.0</td>\n",
       "      <td>0.0</td>\n",
       "      <td>0.0</td>\n",
       "      <td>0.0</td>\n",
       "      <td>0.0</td>\n",
       "      <td>0.0</td>\n",
       "      <td>0.0</td>\n",
       "      <td>0.0</td>\n",
       "      <td>0.0</td>\n",
       "    </tr>\n",
       "    <tr>\n",
       "      <th>2</th>\n",
       "      <td>1.000000</td>\n",
       "      <td>0.659459</td>\n",
       "      <td>0.186486</td>\n",
       "      <td>0.070270</td>\n",
       "      <td>0.070270</td>\n",
       "      <td>0.059459</td>\n",
       "      <td>0.056757</td>\n",
       "      <td>0.043243</td>\n",
       "      <td>0.054054</td>\n",
       "      <td>0.045946</td>\n",
       "      <td>...</td>\n",
       "      <td>0.0</td>\n",
       "      <td>0.0</td>\n",
       "      <td>0.0</td>\n",
       "      <td>0.0</td>\n",
       "      <td>0.0</td>\n",
       "      <td>0.0</td>\n",
       "      <td>0.0</td>\n",
       "      <td>0.0</td>\n",
       "      <td>0.0</td>\n",
       "      <td>0.0</td>\n",
       "    </tr>\n",
       "    <tr>\n",
       "      <th>3</th>\n",
       "      <td>0.925414</td>\n",
       "      <td>0.665746</td>\n",
       "      <td>0.541436</td>\n",
       "      <td>0.276243</td>\n",
       "      <td>0.196133</td>\n",
       "      <td>0.077348</td>\n",
       "      <td>0.071823</td>\n",
       "      <td>0.060773</td>\n",
       "      <td>0.066298</td>\n",
       "      <td>0.058011</td>\n",
       "      <td>...</td>\n",
       "      <td>0.0</td>\n",
       "      <td>0.0</td>\n",
       "      <td>0.0</td>\n",
       "      <td>0.0</td>\n",
       "      <td>0.0</td>\n",
       "      <td>0.0</td>\n",
       "      <td>0.0</td>\n",
       "      <td>0.0</td>\n",
       "      <td>0.0</td>\n",
       "      <td>0.0</td>\n",
       "    </tr>\n",
       "    <tr>\n",
       "      <th>4</th>\n",
       "      <td>0.967136</td>\n",
       "      <td>1.000000</td>\n",
       "      <td>0.830986</td>\n",
       "      <td>0.586854</td>\n",
       "      <td>0.356808</td>\n",
       "      <td>0.248826</td>\n",
       "      <td>0.145540</td>\n",
       "      <td>0.089202</td>\n",
       "      <td>0.117371</td>\n",
       "      <td>0.150235</td>\n",
       "      <td>...</td>\n",
       "      <td>0.0</td>\n",
       "      <td>0.0</td>\n",
       "      <td>0.0</td>\n",
       "      <td>0.0</td>\n",
       "      <td>0.0</td>\n",
       "      <td>0.0</td>\n",
       "      <td>0.0</td>\n",
       "      <td>0.0</td>\n",
       "      <td>0.0</td>\n",
       "      <td>0.0</td>\n",
       "    </tr>\n",
       "  </tbody>\n",
       "</table>\n",
       "<p>5 rows × 188 columns</p>\n",
       "</div>"
      ],
      "text/plain": [
       "        0         1         2         3         4         5         6    \\\n",
       "0  0.977941  0.926471  0.681373  0.245098  0.154412  0.191176  0.151961   \n",
       "1  0.960114  0.863248  0.461538  0.196581  0.094017  0.125356  0.099715   \n",
       "2  1.000000  0.659459  0.186486  0.070270  0.070270  0.059459  0.056757   \n",
       "3  0.925414  0.665746  0.541436  0.276243  0.196133  0.077348  0.071823   \n",
       "4  0.967136  1.000000  0.830986  0.586854  0.356808  0.248826  0.145540   \n",
       "\n",
       "        7         8         9    ...  178  179  180  181  182  183  184  185  \\\n",
       "0  0.085784  0.058824  0.049020  ...  0.0  0.0  0.0  0.0  0.0  0.0  0.0  0.0   \n",
       "1  0.088319  0.074074  0.082621  ...  0.0  0.0  0.0  0.0  0.0  0.0  0.0  0.0   \n",
       "2  0.043243  0.054054  0.045946  ...  0.0  0.0  0.0  0.0  0.0  0.0  0.0  0.0   \n",
       "3  0.060773  0.066298  0.058011  ...  0.0  0.0  0.0  0.0  0.0  0.0  0.0  0.0   \n",
       "4  0.089202  0.117371  0.150235  ...  0.0  0.0  0.0  0.0  0.0  0.0  0.0  0.0   \n",
       "\n",
       "   186  187  \n",
       "0  0.0  0.0  \n",
       "1  0.0  0.0  \n",
       "2  0.0  0.0  \n",
       "3  0.0  0.0  \n",
       "4  0.0  0.0  \n",
       "\n",
       "[5 rows x 188 columns]"
      ]
     },
     "execution_count": 2,
     "metadata": {},
     "output_type": "execute_result"
    }
   ],
   "source": [
    "df1 = pd.read_csv('mitbih_train.csv', header = None)\n",
    "df2 = pd.read_csv('mitbih_test.csv', header = None)\n",
    "df1.head()"
   ]
  },
  {
   "cell_type": "code",
   "execution_count": 3,
   "id": "cf6e5354-e8f3-49e6-9241-de9879a12861",
   "metadata": {},
   "outputs": [
    {
     "data": {
      "text/plain": [
       "(87554, 188)"
      ]
     },
     "execution_count": 3,
     "metadata": {},
     "output_type": "execute_result"
    }
   ],
   "source": [
    "df1.shape"
   ]
  },
  {
   "cell_type": "code",
   "execution_count": 4,
   "id": "d73b231e-3ad1-47e4-a005-8e7d71e47fdf",
   "metadata": {},
   "outputs": [
    {
     "data": {
      "text/plain": [
       "(21892, 188)"
      ]
     },
     "execution_count": 4,
     "metadata": {},
     "output_type": "execute_result"
    }
   ],
   "source": [
    "df2.shape"
   ]
  },
  {
   "cell_type": "code",
   "execution_count": 5,
   "id": "f30fec8d-dce3-436f-a090-a97d2a924825",
   "metadata": {},
   "outputs": [],
   "source": [
    "X = df1.iloc[:,0:187]  \n",
    "y = df1.iloc[:,-1]"
   ]
  },
  {
   "cell_type": "code",
   "execution_count": 6,
   "id": "b2ddf0c3-0380-4c20-9355-5a6de1aae6a8",
   "metadata": {},
   "outputs": [],
   "source": [
    "X2 = df2.iloc[:,0:187]\n",
    "y2=df2.iloc[:,-1]"
   ]
  },
  {
   "cell_type": "code",
   "execution_count": 7,
   "id": "da4dd8c8-ee54-4785-b44c-d4a38695e723",
   "metadata": {},
   "outputs": [],
   "source": [
    "X_train, X_test, y_train, y_test=train_test_split(X, y, test_size = 0.20, random_state = 42)"
   ]
  },
  {
   "cell_type": "code",
   "execution_count": 13,
   "id": "0474b141-8d41-4ef9-9971-663c77a94bc4",
   "metadata": {},
   "outputs": [],
   "source": [
    "from tensorflow.keras.callbacks import EarlyStopping\n",
    "\n",
    "model = Sequential()\n",
    "model.add(Dense(256, input_dim=187, activation='relu'))\n",
    "model.add(Dense(256, activation='relu'))\n",
    "model.add(Dense(5, activation='softmax'))"
   ]
  },
  {
   "cell_type": "code",
   "execution_count": 19,
   "id": "82565a0f-e6e0-4f36-86ec-5c4f1800b868",
   "metadata": {},
   "outputs": [],
   "source": [
    "model.compile(loss='sparse_categorical_crossentropy', optimizer = 'adam', metrics = ['accuracy'])\n",
    "\n",
    "early_stopping = EarlyStopping(\n",
    "    min_delta=0.001,\n",
    "    monitor = 'val_loss',\n",
    "    patience=20, \n",
    "    restore_best_weights=True,\n",
    ")"
   ]
  },
  {
   "cell_type": "code",
   "execution_count": 36,
   "id": "16084228-f909-4b20-8443-8e8053aa4cc1",
   "metadata": {},
   "outputs": [
    {
     "name": "stdout",
     "output_type": "stream",
     "text": [
      "Epoch 1/250\n",
      "21/21 [==============================] - 1s 30ms/step - loss: 0.0869 - accuracy: 0.9709 - val_loss: 0.0972 - val_accuracy: 0.9717\n",
      "Epoch 2/250\n",
      "21/21 [==============================] - 1s 26ms/step - loss: 0.0715 - accuracy: 0.9755 - val_loss: 0.0964 - val_accuracy: 0.9722\n",
      "Epoch 3/250\n",
      "21/21 [==============================] - 1s 25ms/step - loss: 0.0711 - accuracy: 0.9755 - val_loss: 0.0946 - val_accuracy: 0.9735\n",
      "Epoch 4/250\n",
      "21/21 [==============================] - 1s 26ms/step - loss: 0.0671 - accuracy: 0.9768 - val_loss: 0.0918 - val_accuracy: 0.9738\n",
      "Epoch 5/250\n",
      "21/21 [==============================] - 1s 26ms/step - loss: 0.0655 - accuracy: 0.9776 - val_loss: 0.0919 - val_accuracy: 0.9730\n",
      "Epoch 6/250\n",
      "21/21 [==============================] - 1s 25ms/step - loss: 0.0673 - accuracy: 0.9773 - val_loss: 0.0973 - val_accuracy: 0.9712\n",
      "Epoch 7/250\n",
      "21/21 [==============================] - 1s 31ms/step - loss: 0.0736 - accuracy: 0.9756 - val_loss: 0.0915 - val_accuracy: 0.9732\n",
      "Epoch 8/250\n",
      "21/21 [==============================] - 1s 26ms/step - loss: 0.0661 - accuracy: 0.9775 - val_loss: 0.0905 - val_accuracy: 0.9744\n",
      "Epoch 9/250\n",
      "21/21 [==============================] - 1s 25ms/step - loss: 0.0657 - accuracy: 0.9777 - val_loss: 0.0904 - val_accuracy: 0.9741\n",
      "Epoch 10/250\n",
      "21/21 [==============================] - 1s 26ms/step - loss: 0.0634 - accuracy: 0.9785 - val_loss: 0.0928 - val_accuracy: 0.9738\n",
      "Epoch 11/250\n",
      "21/21 [==============================] - 1s 26ms/step - loss: 0.0631 - accuracy: 0.9786 - val_loss: 0.0899 - val_accuracy: 0.9745\n",
      "Epoch 12/250\n",
      "21/21 [==============================] - 1s 25ms/step - loss: 0.0642 - accuracy: 0.9788 - val_loss: 0.0933 - val_accuracy: 0.9734\n",
      "Epoch 13/250\n",
      "21/21 [==============================] - 1s 25ms/step - loss: 0.0704 - accuracy: 0.9766 - val_loss: 0.0903 - val_accuracy: 0.9740\n",
      "Epoch 14/250\n",
      "21/21 [==============================] - 1s 27ms/step - loss: 0.0630 - accuracy: 0.9791 - val_loss: 0.0887 - val_accuracy: 0.9752\n",
      "Epoch 15/250\n",
      "21/21 [==============================] - 1s 25ms/step - loss: 0.0651 - accuracy: 0.9784 - val_loss: 0.0886 - val_accuracy: 0.9747\n",
      "Epoch 16/250\n",
      "21/21 [==============================] - 1s 28ms/step - loss: 0.0620 - accuracy: 0.9791 - val_loss: 0.0898 - val_accuracy: 0.9746\n",
      "Epoch 17/250\n",
      "21/21 [==============================] - 1s 29ms/step - loss: 0.0616 - accuracy: 0.9798 - val_loss: 0.0940 - val_accuracy: 0.9720\n",
      "Epoch 18/250\n",
      "21/21 [==============================] - 1s 32ms/step - loss: 0.0691 - accuracy: 0.9771 - val_loss: 0.0905 - val_accuracy: 0.9747\n",
      "Epoch 19/250\n",
      "21/21 [==============================] - 1s 35ms/step - loss: 0.0708 - accuracy: 0.9769 - val_loss: 0.0956 - val_accuracy: 0.9728\n",
      "Epoch 20/250\n",
      "21/21 [==============================] - 1s 27ms/step - loss: 0.0657 - accuracy: 0.9784 - val_loss: 0.0895 - val_accuracy: 0.9745\n",
      "Epoch 21/250\n",
      "21/21 [==============================] - 1s 26ms/step - loss: 0.0590 - accuracy: 0.9806 - val_loss: 0.0913 - val_accuracy: 0.9738\n",
      "Epoch 22/250\n",
      "21/21 [==============================] - 1s 26ms/step - loss: 0.0636 - accuracy: 0.9788 - val_loss: 0.0887 - val_accuracy: 0.9754\n",
      "Epoch 23/250\n",
      "21/21 [==============================] - 1s 26ms/step - loss: 0.0590 - accuracy: 0.9801 - val_loss: 0.0889 - val_accuracy: 0.9744\n",
      "Epoch 24/250\n",
      "21/21 [==============================] - 1s 25ms/step - loss: 0.0625 - accuracy: 0.9795 - val_loss: 0.0904 - val_accuracy: 0.9736\n",
      "Epoch 25/250\n",
      "21/21 [==============================] - 1s 27ms/step - loss: 0.0637 - accuracy: 0.9792 - val_loss: 0.0867 - val_accuracy: 0.9753\n",
      "Epoch 26/250\n",
      "21/21 [==============================] - 1s 25ms/step - loss: 0.0565 - accuracy: 0.9814 - val_loss: 0.0850 - val_accuracy: 0.9756\n",
      "Epoch 27/250\n",
      "21/21 [==============================] - 1s 26ms/step - loss: 0.0555 - accuracy: 0.9816 - val_loss: 0.0847 - val_accuracy: 0.9756\n",
      "Epoch 28/250\n",
      "21/21 [==============================] - 1s 28ms/step - loss: 0.0545 - accuracy: 0.9819 - val_loss: 0.0844 - val_accuracy: 0.9756\n",
      "Epoch 29/250\n",
      "21/21 [==============================] - 1s 27ms/step - loss: 0.0560 - accuracy: 0.9817 - val_loss: 0.0867 - val_accuracy: 0.9749\n",
      "Epoch 30/250\n",
      "21/21 [==============================] - 1s 31ms/step - loss: 0.0611 - accuracy: 0.9804 - val_loss: 0.0852 - val_accuracy: 0.9754\n",
      "Epoch 31/250\n",
      "21/21 [==============================] - 1s 28ms/step - loss: 0.0567 - accuracy: 0.9815 - val_loss: 0.0836 - val_accuracy: 0.9759\n",
      "Epoch 32/250\n",
      "21/21 [==============================] - 1s 27ms/step - loss: 0.0564 - accuracy: 0.9815 - val_loss: 0.0977 - val_accuracy: 0.9712\n",
      "Epoch 33/250\n",
      "21/21 [==============================] - 1s 27ms/step - loss: 0.0663 - accuracy: 0.9778 - val_loss: 0.0895 - val_accuracy: 0.9746\n",
      "Epoch 34/250\n",
      "21/21 [==============================] - 1s 31ms/step - loss: 0.0556 - accuracy: 0.9816 - val_loss: 0.0843 - val_accuracy: 0.9761\n",
      "Epoch 35/250\n",
      "21/21 [==============================] - 1s 27ms/step - loss: 0.0544 - accuracy: 0.9824 - val_loss: 0.0836 - val_accuracy: 0.9762\n",
      "Epoch 36/250\n",
      "21/21 [==============================] - 1s 27ms/step - loss: 0.0548 - accuracy: 0.9822 - val_loss: 0.0838 - val_accuracy: 0.9754\n",
      "Epoch 37/250\n",
      "21/21 [==============================] - 1s 26ms/step - loss: 0.0523 - accuracy: 0.9828 - val_loss: 0.0852 - val_accuracy: 0.9757\n",
      "Epoch 38/250\n",
      "21/21 [==============================] - 1s 27ms/step - loss: 0.0531 - accuracy: 0.9826 - val_loss: 0.0827 - val_accuracy: 0.9764\n",
      "Epoch 39/250\n",
      "21/21 [==============================] - 1s 27ms/step - loss: 0.0510 - accuracy: 0.9836 - val_loss: 0.0859 - val_accuracy: 0.9757\n",
      "Epoch 40/250\n",
      "21/21 [==============================] - 1s 27ms/step - loss: 0.0513 - accuracy: 0.9832 - val_loss: 0.0835 - val_accuracy: 0.9762\n",
      "Epoch 41/250\n",
      "21/21 [==============================] - 1s 31ms/step - loss: 0.0496 - accuracy: 0.9841 - val_loss: 0.0825 - val_accuracy: 0.9766\n",
      "Epoch 42/250\n",
      "21/21 [==============================] - 1s 33ms/step - loss: 0.0515 - accuracy: 0.9833 - val_loss: 0.0841 - val_accuracy: 0.9763\n",
      "Epoch 43/250\n",
      "21/21 [==============================] - 1s 33ms/step - loss: 0.0504 - accuracy: 0.9841 - val_loss: 0.1099 - val_accuracy: 0.9668\n",
      "Epoch 44/250\n",
      "21/21 [==============================] - 1s 30ms/step - loss: 0.0827 - accuracy: 0.9723 - val_loss: 0.0950 - val_accuracy: 0.9727\n",
      "Epoch 45/250\n",
      "21/21 [==============================] - 1s 29ms/step - loss: 0.0566 - accuracy: 0.9813 - val_loss: 0.0841 - val_accuracy: 0.9762\n",
      "Epoch 46/250\n",
      "21/21 [==============================] - 1s 28ms/step - loss: 0.0519 - accuracy: 0.9830 - val_loss: 0.0828 - val_accuracy: 0.9759\n",
      "Epoch 47/250\n",
      "21/21 [==============================] - 1s 27ms/step - loss: 0.0492 - accuracy: 0.9842 - val_loss: 0.0875 - val_accuracy: 0.9752\n",
      "Epoch 48/250\n",
      "21/21 [==============================] - 1s 27ms/step - loss: 0.0574 - accuracy: 0.9812 - val_loss: 0.0844 - val_accuracy: 0.9764\n",
      "Epoch 49/250\n",
      "21/21 [==============================] - 1s 33ms/step - loss: 0.0535 - accuracy: 0.9823 - val_loss: 0.0829 - val_accuracy: 0.9758\n",
      "Epoch 50/250\n",
      "21/21 [==============================] - 1s 27ms/step - loss: 0.0489 - accuracy: 0.9842 - val_loss: 0.0833 - val_accuracy: 0.9766\n",
      "Epoch 51/250\n",
      "21/21 [==============================] - 1s 26ms/step - loss: 0.0495 - accuracy: 0.9844 - val_loss: 0.0812 - val_accuracy: 0.9770\n",
      "Epoch 52/250\n",
      "21/21 [==============================] - 1s 28ms/step - loss: 0.0470 - accuracy: 0.9850 - val_loss: 0.0840 - val_accuracy: 0.9757\n",
      "Epoch 53/250\n",
      "21/21 [==============================] - 1s 31ms/step - loss: 0.0498 - accuracy: 0.9840 - val_loss: 0.1187 - val_accuracy: 0.9676\n",
      "Epoch 54/250\n",
      "21/21 [==============================] - 1s 29ms/step - loss: 0.0659 - accuracy: 0.9784 - val_loss: 0.1028 - val_accuracy: 0.9702\n",
      "Epoch 55/250\n",
      "21/21 [==============================] - 1s 32ms/step - loss: 0.0570 - accuracy: 0.9812 - val_loss: 0.0812 - val_accuracy: 0.9768\n",
      "Epoch 56/250\n",
      "21/21 [==============================] - 1s 27ms/step - loss: 0.0479 - accuracy: 0.9844 - val_loss: 0.0825 - val_accuracy: 0.9769\n",
      "Epoch 57/250\n",
      "21/21 [==============================] - 1s 26ms/step - loss: 0.0476 - accuracy: 0.9849 - val_loss: 0.0812 - val_accuracy: 0.9773\n",
      "Epoch 58/250\n",
      "21/21 [==============================] - 1s 27ms/step - loss: 0.0451 - accuracy: 0.9856 - val_loss: 0.0849 - val_accuracy: 0.9764\n",
      "Epoch 59/250\n",
      "21/21 [==============================] - 1s 26ms/step - loss: 0.0536 - accuracy: 0.9824 - val_loss: 0.0970 - val_accuracy: 0.9716\n",
      "Epoch 60/250\n",
      "21/21 [==============================] - 1s 26ms/step - loss: 0.0604 - accuracy: 0.9807 - val_loss: 0.0843 - val_accuracy: 0.9763\n",
      "Epoch 61/250\n",
      "21/21 [==============================] - 1s 25ms/step - loss: 0.0514 - accuracy: 0.9838 - val_loss: 0.0897 - val_accuracy: 0.9742\n",
      "Epoch 62/250\n",
      "21/21 [==============================] - 1s 34ms/step - loss: 0.0562 - accuracy: 0.9821 - val_loss: 0.0827 - val_accuracy: 0.9769\n",
      "Epoch 63/250\n",
      "21/21 [==============================] - 1s 29ms/step - loss: 0.0504 - accuracy: 0.9838 - val_loss: 0.0831 - val_accuracy: 0.9770\n",
      "Epoch 64/250\n",
      "21/21 [==============================] - 1s 28ms/step - loss: 0.0523 - accuracy: 0.9831 - val_loss: 0.0815 - val_accuracy: 0.9770\n",
      "Epoch 65/250\n",
      "21/21 [==============================] - 1s 28ms/step - loss: 0.0445 - accuracy: 0.9857 - val_loss: 0.0807 - val_accuracy: 0.9765\n",
      "Epoch 66/250\n",
      "21/21 [==============================] - 1s 27ms/step - loss: 0.0461 - accuracy: 0.9852 - val_loss: 0.0806 - val_accuracy: 0.9767\n",
      "Epoch 67/250\n",
      "21/21 [==============================] - 1s 27ms/step - loss: 0.0492 - accuracy: 0.9840 - val_loss: 0.0863 - val_accuracy: 0.9766\n",
      "Epoch 68/250\n",
      "21/21 [==============================] - 1s 27ms/step - loss: 0.0522 - accuracy: 0.9829 - val_loss: 0.0824 - val_accuracy: 0.9771\n",
      "Epoch 69/250\n",
      "21/21 [==============================] - 1s 27ms/step - loss: 0.0479 - accuracy: 0.9844 - val_loss: 0.0821 - val_accuracy: 0.9760\n",
      "Epoch 70/250\n",
      "21/21 [==============================] - 1s 30ms/step - loss: 0.0456 - accuracy: 0.9853 - val_loss: 0.0816 - val_accuracy: 0.9771\n",
      "Epoch 71/250\n",
      "21/21 [==============================] - 1s 29ms/step - loss: 0.0468 - accuracy: 0.9845 - val_loss: 0.0796 - val_accuracy: 0.9776\n",
      "Epoch 72/250\n",
      "21/21 [==============================] - 1s 35ms/step - loss: 0.0424 - accuracy: 0.9865 - val_loss: 0.0857 - val_accuracy: 0.9765\n",
      "Epoch 73/250\n",
      "21/21 [==============================] - 1s 32ms/step - loss: 0.0465 - accuracy: 0.9853 - val_loss: 0.0791 - val_accuracy: 0.9772\n",
      "Epoch 74/250\n",
      "21/21 [==============================] - 1s 31ms/step - loss: 0.0435 - accuracy: 0.9859 - val_loss: 0.0801 - val_accuracy: 0.9775\n",
      "Epoch 75/250\n",
      "21/21 [==============================] - 1s 27ms/step - loss: 0.0420 - accuracy: 0.9868 - val_loss: 0.0799 - val_accuracy: 0.9774\n",
      "Epoch 76/250\n",
      "21/21 [==============================] - 1s 28ms/step - loss: 0.0410 - accuracy: 0.9869 - val_loss: 0.0791 - val_accuracy: 0.9781\n",
      "Epoch 77/250\n",
      "21/21 [==============================] - 1s 32ms/step - loss: 0.0400 - accuracy: 0.9873 - val_loss: 0.0815 - val_accuracy: 0.9766\n",
      "Epoch 78/250\n",
      "21/21 [==============================] - 1s 29ms/step - loss: 0.0494 - accuracy: 0.9838 - val_loss: 0.0843 - val_accuracy: 0.9766\n",
      "Epoch 79/250\n",
      "21/21 [==============================] - 1s 28ms/step - loss: 0.0441 - accuracy: 0.9861 - val_loss: 0.0815 - val_accuracy: 0.9768\n",
      "Epoch 80/250\n",
      "21/21 [==============================] - 1s 27ms/step - loss: 0.0437 - accuracy: 0.9862 - val_loss: 0.0819 - val_accuracy: 0.9769\n",
      "Epoch 81/250\n",
      "21/21 [==============================] - 1s 34ms/step - loss: 0.0402 - accuracy: 0.9874 - val_loss: 0.0807 - val_accuracy: 0.9768\n",
      "Epoch 82/250\n",
      "21/21 [==============================] - 1s 29ms/step - loss: 0.0426 - accuracy: 0.9866 - val_loss: 0.0936 - val_accuracy: 0.9723\n",
      "Epoch 83/250\n",
      "21/21 [==============================] - 1s 30ms/step - loss: 0.0494 - accuracy: 0.9838 - val_loss: 0.0860 - val_accuracy: 0.9768\n",
      "Epoch 84/250\n",
      "21/21 [==============================] - 1s 27ms/step - loss: 0.0473 - accuracy: 0.9840 - val_loss: 0.0855 - val_accuracy: 0.9758\n",
      "Epoch 85/250\n",
      "21/21 [==============================] - 1s 29ms/step - loss: 0.0454 - accuracy: 0.9855 - val_loss: 0.0818 - val_accuracy: 0.9770\n",
      "Epoch 86/250\n",
      "21/21 [==============================] - 1s 27ms/step - loss: 0.0437 - accuracy: 0.9859 - val_loss: 0.0880 - val_accuracy: 0.9762\n",
      "Epoch 87/250\n",
      "21/21 [==============================] - 1s 33ms/step - loss: 0.0398 - accuracy: 0.9875 - val_loss: 0.0796 - val_accuracy: 0.9788\n",
      "Epoch 88/250\n",
      "21/21 [==============================] - 1s 28ms/step - loss: 0.0369 - accuracy: 0.9886 - val_loss: 0.0789 - val_accuracy: 0.9780\n",
      "Epoch 89/250\n",
      "21/21 [==============================] - 1s 29ms/step - loss: 0.0371 - accuracy: 0.9885 - val_loss: 0.0786 - val_accuracy: 0.9784\n",
      "Epoch 90/250\n",
      "21/21 [==============================] - 1s 29ms/step - loss: 0.0369 - accuracy: 0.9885 - val_loss: 0.1017 - val_accuracy: 0.9738\n",
      "Epoch 91/250\n",
      "21/21 [==============================] - 1s 29ms/step - loss: 0.0502 - accuracy: 0.9837 - val_loss: 0.0808 - val_accuracy: 0.9774\n"
     ]
    }
   ],
   "source": [
    "hist = model.fit(X_train, y_train, \n",
    "                 epochs = 250, \n",
    "                 batch_size = 3500, \n",
    "                 verbose = 1, \n",
    "                 callbacks = [early_stopping], \n",
    "                 validation_data=(X_test,y_test)\n",
    ") \n",
    "                \n",
    "model.save('E.C.G_pred_model.h5', hist)"
   ]
  },
  {
   "cell_type": "code",
   "execution_count": 47,
   "id": "6c964116-d741-4c7c-9828-8a9ae82ad615",
   "metadata": {},
   "outputs": [],
   "source": [
    "hist_df = pd.DataFrame(hist.history)"
   ]
  },
  {
   "cell_type": "code",
   "execution_count": 48,
   "id": "c0b132e6-9009-487c-b6a7-e7f2db8d287a",
   "metadata": {},
   "outputs": [
    {
     "name": "stdout",
     "output_type": "stream",
     "text": [
      "Best Val Loss: 0.0786\n",
      "Best Val Accuracy: 0.9788\n"
     ]
    },
    {
     "data": {
      "image/png": "[encoded data removed]",
      "text/plain": [
       "<Figure size 432x288 with 1 Axes>"
      ]
     },
     "metadata": {
      "needs_background": "light"
     },
     "output_type": "display_data"
    },
    {
     "data": {
      "image/png": "[encoded data removed]",
      "text/plain": [
       "<Figure size 432x288 with 1 Axes>"
      ]
     },
     "metadata": {
      "needs_background": "light"
     },
     "output_type": "display_data"
    }
   ],
   "source": [
    "hist_df.loc[:, ['loss', 'val_loss']].plot()\n",
    "hist_df.loc[:, ['accuracy', 'val_accuracy']].plot()\n",
    "\n",
    "print((\"Best Val Loss: {:0.4f}\" +\\\n",
    "      \"\\nBest Val Accuracy: {:0.4f}\")\\\n",
    "      .format(hist_df['val_loss'].min(), \n",
    "              hist_df['val_accuracy'].max()))"
   ]
  },
  {
   "cell_type": "code",
   "execution_count": 50,
   "id": "84dfa8da-aefd-403a-a16c-0c824cb41055",
   "metadata": {},
   "outputs": [
    {
     "name": "stdout",
     "output_type": "stream",
     "text": [
      "Model: \"sequential_1\"\n",
      "_________________________________________________________________\n",
      " Layer (type)                Output Shape              Param #   \n",
      "=================================================================\n",
      " dense_3 (Dense)             (None, 256)               48128     \n",
      "                                                                 \n",
      " dense_4 (Dense)             (None, 256)               65792     \n",
      "                                                                 \n",
      " dense_5 (Dense)             (None, 5)                 1285      \n",
      "                                                                 \n",
      "=================================================================\n",
      "Total params: 115,205\n",
      "Trainable params: 115,205\n",
      "Non-trainable params: 0\n",
      "_________________________________________________________________\n"
     ]
    }
   ],
   "source": [
    "model.summary()"
   ]
  },
  {
   "cell_type": "code",
   "execution_count": 49,
   "id": "4f030bab-cb22-4f83-8125-6187e84f5b88",
   "metadata": {},
   "outputs": [
    {
     "name": "stdout",
     "output_type": "stream",
     "text": [
      "548/548 [==============================] - 1s 2ms/step - loss: 0.0796 - accuracy: 0.9776\n"
     ]
    }
   ],
   "source": [
    "mod_accuracy = model.evaluate(X_test, y_test, )"
   ]
  },
  {
   "cell_type": "code",
   "execution_count": 38,
   "id": "cd3860ad-6554-4595-b1f2-72d3f1c6d1b4",
   "metadata": {},
   "outputs": [
    {
     "name": "stdout",
     "output_type": "stream",
     "text": [
      "[[9.8019570e-01 1.9783914e-02 1.2642639e-05 7.7988871e-06 3.0276574e-08]\n",
      " [9.9922144e-01 7.7085342e-04 1.6791997e-08 6.3925681e-06 1.3060160e-06]\n",
      " [9.9956554e-01 2.4861463e-05 1.1731299e-05 3.9757899e-04 3.1406290e-07]\n",
      " ...\n",
      " [3.8855418e-04 4.8870907e-09 9.9961144e-01 1.5872720e-09 5.7578095e-08]\n",
      " [9.9847883e-01 1.4330797e-06 1.5191125e-03 2.5137803e-10 5.4187501e-07]\n",
      " [9.9974114e-01 7.5338457e-06 2.3975130e-04 1.1484753e-05 1.4930791e-09]]\n"
     ]
    }
   ],
   "source": [
    "probabilities=model.predict(X_test)\n",
    "print(probabilities)"
   ]
  },
  {
   "cell_type": "code",
   "execution_count": 39,
   "id": "b1bcd568-05f7-46ea-a243-3f6a40cd70d8",
   "metadata": {},
   "outputs": [
    {
     "data": {
      "text/plain": [
       "array([0, 0, 0, ..., 2, 0, 0], dtype=int64)"
      ]
     },
     "execution_count": 39,
     "metadata": {},
     "output_type": "execute_result"
    }
   ],
   "source": [
    "y_pred = np.argmax(probabilities, axis = 1)\n",
    "y_pred"
   ]
  },
  {
   "cell_type": "code",
   "execution_count": 40,
   "id": "1673e176-8308-4524-afe0-08a28c366697",
   "metadata": {},
   "outputs": [
    {
     "data": {
      "text/plain": [
       "0.9775569641939352"
      ]
     },
     "execution_count": 40,
     "metadata": {},
     "output_type": "execute_result"
    }
   ],
   "source": [
    "accuracy_score(y_pred, y_test)\n"
   ]
  },
  {
   "cell_type": "code",
   "execution_count": 42,
   "id": "d6e7ab0b-4d3e-4090-ba22-21075c7ec523",
   "metadata": {},
   "outputs": [
    {
     "name": "stdout",
     "output_type": "stream",
     "text": [
      "              precision    recall  f1-score   support\n",
      "\n",
      "         0.0       0.98      0.99      0.99     14579\n",
      "         1.0       0.87      0.70      0.78       426\n",
      "         2.0       0.94      0.92      0.93      1112\n",
      "         3.0       0.86      0.77      0.81       145\n",
      "         4.0       0.98      0.98      0.98      1249\n",
      "\n",
      "    accuracy                           0.98     17511\n",
      "   macro avg       0.93      0.87      0.90     17511\n",
      "weighted avg       0.98      0.98      0.98     17511\n",
      "\n"
     ]
    }
   ],
   "source": [
    "print(classification_report(y_test, y_pred))"
   ]
  },
  {
   "cell_type": "code",
   "execution_count": 51,
   "id": "67f11aa4-0a49-4479-9e51-3a37cf806882",
   "metadata": {},
   "outputs": [
    {
     "name": "stdout",
     "output_type": "stream",
     "text": [
      "685/685 [==============================] - 1s 2ms/step - loss: 0.0942 - accuracy: 0.9764: 0s - los\n"
     ]
    }
   ],
   "source": [
    "mod_acc = model.evaluate(X2, y2, )"
   ]
  },
  {
   "cell_type": "code",
   "execution_count": 53,
   "id": "5e259e7e-a4c2-4ee1-a8ba-a128452f5c6f",
   "metadata": {},
   "outputs": [
    {
     "name": "stdout",
     "output_type": "stream",
     "text": [
      "[[9.9997783e-01 2.1975795e-05 8.0227530e-08 2.2408187e-08 1.7461918e-10]\n",
      " [9.3504727e-01 5.6407709e-02 6.1221565e-03 8.8450726e-04 1.5383021e-03]\n",
      " [9.8348665e-01 1.6076909e-02 4.6031830e-05 7.8693556e-05 3.1165520e-04]\n",
      " ...\n",
      " [3.6579857e-03 1.2591480e-04 2.5025148e-02 1.6463581e-04 9.7102630e-01]\n",
      " [2.0084728e-05 1.8288162e-08 4.2308720e-08 4.2388321e-10 9.9997985e-01]\n",
      " [6.4004489e-06 2.3247522e-12 2.0859101e-09 1.2452589e-13 9.9999356e-01]]\n"
     ]
    }
   ],
   "source": [
    "probs=model.predict(X2)\n",
    "print(probs)"
   ]
  },
  {
   "cell_type": "code",
   "execution_count": 54,
   "id": "9470bfb7-0a10-4d1f-96e0-67fa885fdcce",
   "metadata": {},
   "outputs": [
    {
     "data": {
      "text/plain": [
       "array([0, 0, 0, ..., 4, 4, 4], dtype=int64)"
      ]
     },
     "execution_count": 54,
     "metadata": {},
     "output_type": "execute_result"
    }
   ],
   "source": [
    "y2_pred = np.argmax(probs, axis = 1)\n",
    "y2_pred"
   ]
  },
  {
   "cell_type": "code",
   "execution_count": 55,
   "id": "d248f6c4-94a0-487e-b905-d8030fdb0847",
   "metadata": {},
   "outputs": [
    {
     "data": {
      "text/plain": [
       "0.9764297460259456"
      ]
     },
     "execution_count": 55,
     "metadata": {},
     "output_type": "execute_result"
    }
   ],
   "source": [
    "accuracy_score(y2_pred, y2)"
   ]
  },
  {
   "cell_type": "code",
   "execution_count": 56,
   "id": "ad710327-997a-44d8-ab1f-c352ba1bc2e6",
   "metadata": {},
   "outputs": [
    {
     "name": "stdout",
     "output_type": "stream",
     "text": [
      "              precision    recall  f1-score   support\n",
      "\n",
      "         0.0       0.98      0.99      0.99     18118\n",
      "         1.0       0.88      0.68      0.77       556\n",
      "         2.0       0.94      0.92      0.93      1448\n",
      "         3.0       0.74      0.70      0.72       162\n",
      "         4.0       0.98      0.97      0.98      1608\n",
      "\n",
      "    accuracy                           0.98     21892\n",
      "   macro avg       0.91      0.85      0.88     21892\n",
      "weighted avg       0.98      0.98      0.98     21892\n",
      "\n"
     ]
    }
   ],
   "source": [
    "print(classification_report(y2, y2_pred))"
   ]
  },
  {
   "cell_type": "code",
   "execution_count": null,
   "id": "58f638a0-5737-4090-a6cd-06398b3ae0c0",
   "metadata": {},
   "outputs": [],
   "source": []
  }
 ],
 "metadata": {
  "kernelspec": {
   "display_name": "Python 3",
   "language": "python",
   "name": "python3"
  },
  "language_info": {
   "codemirror_mode": {
    "name": "ipython",
    "version": 3
   },
   "file_extension": ".py",
   "mimetype": "text/x-python",
   "name": "python",
   "nbconvert_exporter": "python",
   "pygments_lexer": "ipython3",
   "version": "3.8.8"
  }
 },
 "nbformat": 4,
 "nbformat_minor": 5
}
